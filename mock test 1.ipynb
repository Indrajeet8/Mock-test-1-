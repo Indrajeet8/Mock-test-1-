{
 "cells": [
  {
   "cell_type": "markdown",
   "id": "c2fa7953-b876-4aa8-ade6-94851c6b2246",
   "metadata": {},
   "source": [
    "Mock Test - 1"
   ]
  },
  {
   "cell_type": "code",
   "execution_count": null,
   "id": "e3d11fe5-f07e-4d77-bbc8-cae69a4f09b6",
   "metadata": {},
   "outputs": [],
   "source": [
    "Ques"
   ]
  },
  {
   "cell_type": "raw",
   "id": "43dff6df-796b-4720-9af1-62ebfeb290d4",
   "metadata": {},
   "source": [
    "Move Zeroes\n",
    "Given an integer array nums, move all 0's to the end of it while maintaining the relative order of the non-zero elements.\n",
    "\n",
    "Note that you must do this in-place without making a copy of the array.\n",
    "\n",
    "Example 1:\n",
    "Input: nums = [0,1,0,3,12]\n",
    "Output: [1,3,12,0,0]\n",
    "\n",
    "Example 2:\n",
    "Input: nums = [0]\n",
    "Output: [0]\n",
    "\n",
    "Constraints:\n",
    "a. 1 <= nums.length <= 10^4\n",
    "b. -2^31 <= nums[i] <= 2^31 - 1"
   ]
  },
  {
   "cell_type": "code",
   "execution_count": 1,
   "id": "5856ab7d-76d7-420b-b3f6-361da0040c20",
   "metadata": {},
   "outputs": [],
   "source": [
    "def moveZeroes(nums):\n",
    "    i = j = 0\n",
    "    n = len(nums)\n",
    "\n",
    "    while i < n:\n",
    "        if nums[i] != 0:\n",
    "            nums[i], nums[j] = nums[j], nums[i]\n",
    "            j += 1\n",
    "        i += 1\n",
    "\n",
    "    while j < n:\n",
    "        nums[j] = 0\n",
    "        j += 1\n"
   ]
  },
  {
   "cell_type": "code",
   "execution_count": 2,
   "id": "0056a378-15e7-4957-ba93-36d7ad9d2e54",
   "metadata": {},
   "outputs": [
    {
     "name": "stdout",
     "output_type": "stream",
     "text": [
      "[1, 3, 12, 0, 0]\n"
     ]
    }
   ],
   "source": [
    "nums = [0, 1, 0, 3, 12]\n",
    "moveZeroes(nums)\n",
    "print(nums)\n"
   ]
  },
  {
   "cell_type": "code",
   "execution_count": 3,
   "id": "55e64cbb-f1d3-45fe-941d-8eb3b2b0b558",
   "metadata": {},
   "outputs": [
    {
     "name": "stdout",
     "output_type": "stream",
     "text": [
      "[0]\n"
     ]
    }
   ],
   "source": [
    "nums = [0]\n",
    "moveZeroes(nums)\n",
    "print(nums)\n"
   ]
  },
  {
   "cell_type": "code",
   "execution_count": null,
   "id": "9ab9f2f6-8a65-41f8-9238-5d08100b50bc",
   "metadata": {},
   "outputs": [],
   "source": []
  }
 ],
 "metadata": {
  "kernelspec": {
   "display_name": "Python 3 (ipykernel)",
   "language": "python",
   "name": "python3"
  },
  "language_info": {
   "codemirror_mode": {
    "name": "ipython",
    "version": 3
   },
   "file_extension": ".py",
   "mimetype": "text/x-python",
   "name": "python",
   "nbconvert_exporter": "python",
   "pygments_lexer": "ipython3",
   "version": "3.10.8"
  }
 },
 "nbformat": 4,
 "nbformat_minor": 5
}
